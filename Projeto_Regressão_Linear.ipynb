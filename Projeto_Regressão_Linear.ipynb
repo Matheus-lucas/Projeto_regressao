{
  "nbformat": 4,
  "nbformat_minor": 0,
  "metadata": {
    "colab": {
      "name": "Projeto Regressão Linear.ipynb",
      "provenance": [],
      "collapsed_sections": [],
      "include_colab_link": true
    },
    "kernelspec": {
      "name": "python3",
      "display_name": "Python 3"
    }
  },
  "cells": [
    {
      "cell_type": "markdown",
      "metadata": {
        "id": "view-in-github",
        "colab_type": "text"
      },
      "source": [
        "<a href=\"https://colab.research.google.com/github/matheus-bokus/Projeto_regressao/blob/master/Projeto_Regress%C3%A3o_Linear.ipynb\" target=\"_parent\"><img src=\"https://colab.research.google.com/assets/colab-badge.svg\" alt=\"Open In Colab\"/></a>"
      ]
    },
    {
      "cell_type": "markdown",
      "metadata": {
        "id": "2Pg2N0u6P5rM",
        "colab_type": "text"
      },
      "source": [
        "# Regressão Linear da Temperatura Média Anual da Superfície Terrestre"
      ]
    },
    {
      "cell_type": "markdown",
      "metadata": {
        "id": "jEBkGURIDTfS",
        "colab_type": "text"
      },
      "source": [
        "### Bibliotecas"
      ]
    },
    {
      "cell_type": "code",
      "metadata": {
        "id": "762OegN1BbL3",
        "colab_type": "code",
        "colab": {}
      },
      "source": [
        "import numpy as np\n",
        "from numpy.polynomial import Polynomial as P\n",
        "import pandas as pd\n",
        "import matplotlib.pyplot as plt\n",
        "import seaborn as sns\n",
        "from sklearn.metrics import r2_score as r2\n",
        "import seaborn as sns"
      ],
      "execution_count": 0,
      "outputs": []
    },
    {
      "cell_type": "markdown",
      "metadata": {
        "id": "cg6l_ReaDZwJ",
        "colab_type": "text"
      },
      "source": [
        "### Funcão da Regressão"
      ]
    },
    {
      "cell_type": "code",
      "metadata": {
        "id": "s7lSlD_FITTq",
        "colab_type": "code",
        "colab": {}
      },
      "source": [
        "def reg_linear(x,y):\n",
        "  a=(sum(x*y)-(1/len(x))*sum(x)*sum(y))/(sum(x**2)-(1/len(x))*sum(x)**2)\n",
        "  b=np.mean(y)-np.mean(x)*a\n",
        "  return P([b,a])"
      ],
      "execution_count": 0,
      "outputs": []
    },
    {
      "cell_type": "markdown",
      "metadata": {
        "id": "8WWgQU8CDgrT",
        "colab_type": "text"
      },
      "source": [
        "### Calculo das médias anuais"
      ]
    },
    {
      "cell_type": "markdown",
      "metadata": {
        "id": "ECFQJ3xdDlxp",
        "colab_type": "text"
      },
      "source": [
        "Como o dataset tem os valores mensais das temperaturas, foi  necessário criar uma função que retornasse as médias anuais, para melhorar a visualização dos dados"
      ]
    },
    {
      "cell_type": "code",
      "metadata": {
        "id": "CTuXnVO0PI56",
        "colab_type": "code",
        "colab": {}
      },
      "source": [
        "def media_pd(datafram,string):\n",
        "  c=0\n",
        "  ano=0\n",
        "  data=np.zeros([int((datafram.shape[0])/12)]) #tamanho do dataset/12(o dataset foi dado em meses)\n",
        "  anos=np.zeros([int((datafram.shape[0])/12)]) #tamanho do dataset/12(o dataset foi dado em meses)\n",
        "  print(datafram.shape[0]+1)\n",
        "  for i in range(1,datafram.shape[0]+1): #até o final do dataset\n",
        "    if i%12==0: #Para fazer por ano\n",
        "      if np.isnan((sum(datafram[string][c:i])/12)): #testa se são nan\n",
        "        data[ano]=data[ano-1] #se for nan, recebe 0(nan vai causar erros nos métodos mais adiante)\n",
        "      else:\n",
        "        data[ano]=(sum(datafram[string][c:i])/12) #recebe os valores dos 12 meses, e calcula a média\n",
        "      anos[ano]=1850+ano #vai calculandos os anos referentes a cada temperetura média\n",
        "      c=i #recebe o valor de i, quando i=12*n, ou seja, o valor referentes ao final do ano anterior\n",
        "      ano+=1 #acrescendo os anos\n",
        "  return data,anos"
      ],
      "execution_count": 0,
      "outputs": []
    },
    {
      "cell_type": "markdown",
      "metadata": {
        "id": "7rqkfixcD2-u",
        "colab_type": "text"
      },
      "source": [
        "## Dados"
      ]
    },
    {
      "cell_type": "markdown",
      "metadata": {
        "id": "CmQ0d0_zD69M",
        "colab_type": "text"
      },
      "source": [
        "A elevação da temperatura da superfície do planeta Terra é uma preocupação constante, pois afeta diretamente a vida de todos os seres vivos no mesmo, bem como da própria configuração geográfica do planeta, uma vez que a elevação da mesma causa deglaciação, e aumento dos niveis marítmos. Assim, seu monitoramento é crucial para a manutenção da vida, e uma estimativa precisa desse aumento é necessária, de forma a impedir maiores infórtúnios ambientais. \n",
        "\n",
        "O dataset escolhido, Climate Change: Earth Surface Temperature Data( Mudanças Climáticas: Dados da Temperatura na Superfície Terrestre), concatenou dados obtidos desde o ano de 1750, até 2015. Os dados iniciais foram coletados por técnicos usando termômetros de mercúrio, que estaja sujeito a vários erros, que poderiam afetar as medições. Na década de 1980, houve uma mudança para termômetros eletrônicos que, segundo se diz, têm um viés de resfriamento.\n",
        "\n",
        "Dada a complexidade dos estudos sobre a temperatura, seus efeitos, e as causas da sua elevação, existem várias organizações que coletam dados de tendências climáticas. Os três conjuntos de dados de temperatura de terra e oceano mais citados são o MLOST da NOAA, o GISTEMP da NASA e o HadCrut do Reino Unido.\n",
        "Os dados foram reempacotados de uma compilação mais recente reunida pelo Berkeley Earth, afiliada ao Laboratório Nacional Lawrence Berkeley. O Estudo de Temperatura da Superfície Terrestre de Berkeley combina 1,6 bilhão de relatórios de temperatura de 16 arquivos pré-existentes.\n",
        "\n",
        "Neste conjunto de dados, foram incluídos vários arquivos:\n",
        "\n",
        "* **Data** : começa em 1750 para temperatura média da terra e 1850 para temperaturas máxima e mínima da terra e temperaturas globais do oceano e da terra\n",
        "* **LandAverageTemperatureUncertainty** : temperatura média global da terra em graus Celsius\n",
        "* **Incerteza LandAverageTemperature **: o intervalo de confiança de 95% em torno da média\n",
        "* **LandMaxTemperature** : temperatura máxima média global da terra em graus Celsius\n",
        "* **LandMaxTemperatureUncertainty** : o intervalo de confiança de 95% em torno da temperatura máxima da terra\n",
        "* **LandMinTemperature** : temperatura mínima média global da terra em graus Celsius\n",
        "* **LandMinTemperatureUncertainty** : o intervalo de confiança de 95% em torno da temperatura mínima do solo\n",
        "* **LandAndOceanAverageTemperature** : temperatura média global da terra e do oceano em graus Celsius\n",
        "* **LandAndOceanAverageTemperatureUncertainty**: o intervalo de confiança de 95% em torno da temperatura média global da terra e do oceano\n",
        "\n",
        "\n",
        "* Obs: Para os estudos a seguir, foram utilizados apenas os dados coletados a partir do ano de 1850, que contém os dados relativos as temperaturas médias dos oceanos e em terra."
      ]
    },
    {
      "cell_type": "code",
      "metadata": {
        "id": "IVfwq9kQ6VWo",
        "colab_type": "code",
        "colab": {}
      },
      "source": [
        "dados = pd.read_csv(\"GlobalTemperatures.csv\",sep=\",\")\n",
        "dados.head()"
      ],
      "execution_count": 0,
      "outputs": []
    },
    {
      "cell_type": "markdown",
      "metadata": {
        "id": "Tu9PftHgH-9F",
        "colab_type": "text"
      },
      "source": [
        "Porém, dado o tamanho do dataset, seria muito custoso, em termos de processamento de análise de dados, o analisar da forma que foi montado.\n",
        "Por isso, foi calculada as médias anuais das temperaturas, através da função media_pd(), de forma a melhorar  a análise dos dados"
      ]
    },
    {
      "cell_type": "code",
      "metadata": {
        "id": "NIePI41kQF3M",
        "colab_type": "code",
        "outputId": "1cc765f0-32d0-42cb-ca93-47f508bd229e",
        "colab": {
          "base_uri": "https://localhost:8080/",
          "height": 34
        }
      },
      "source": [
        "datal,anosl=media_pd(dados[1200:],\"LandAverageTemperature\")"
      ],
      "execution_count": 0,
      "outputs": [
        {
          "output_type": "stream",
          "text": [
            "1993\n"
          ],
          "name": "stdout"
        }
      ]
    },
    {
      "cell_type": "code",
      "metadata": {
        "id": "7RASBpnVFXDz",
        "colab_type": "code",
        "outputId": "bf4206ea-0865-431d-ef4c-8ae2cc46a3e6",
        "colab": {
          "base_uri": "https://localhost:8080/",
          "height": 419
        }
      },
      "source": [
        "pd.DataFrame({\"Ano\":anosl,\"Temperatura Média em Terra\":datal})"
      ],
      "execution_count": 0,
      "outputs": [
        {
          "output_type": "execute_result",
          "data": {
            "text/html": [
              "<div>\n",
              "<style scoped>\n",
              "    .dataframe tbody tr th:only-of-type {\n",
              "        vertical-align: middle;\n",
              "    }\n",
              "\n",
              "    .dataframe tbody tr th {\n",
              "        vertical-align: top;\n",
              "    }\n",
              "\n",
              "    .dataframe thead th {\n",
              "        text-align: right;\n",
              "    }\n",
              "</style>\n",
              "<table border=\"1\" class=\"dataframe\">\n",
              "  <thead>\n",
              "    <tr style=\"text-align: right;\">\n",
              "      <th></th>\n",
              "      <th>Ano</th>\n",
              "      <th>Temperatura Média em Terra</th>\n",
              "    </tr>\n",
              "  </thead>\n",
              "  <tbody>\n",
              "    <tr>\n",
              "      <th>0</th>\n",
              "      <td>1850.0</td>\n",
              "      <td>7.900667</td>\n",
              "    </tr>\n",
              "    <tr>\n",
              "      <th>1</th>\n",
              "      <td>1851.0</td>\n",
              "      <td>8.178583</td>\n",
              "    </tr>\n",
              "    <tr>\n",
              "      <th>2</th>\n",
              "      <td>1852.0</td>\n",
              "      <td>8.100167</td>\n",
              "    </tr>\n",
              "    <tr>\n",
              "      <th>3</th>\n",
              "      <td>1853.0</td>\n",
              "      <td>8.041833</td>\n",
              "    </tr>\n",
              "    <tr>\n",
              "      <th>4</th>\n",
              "      <td>1854.0</td>\n",
              "      <td>8.210500</td>\n",
              "    </tr>\n",
              "    <tr>\n",
              "      <th>...</th>\n",
              "      <td>...</td>\n",
              "      <td>...</td>\n",
              "    </tr>\n",
              "    <tr>\n",
              "      <th>161</th>\n",
              "      <td>2011.0</td>\n",
              "      <td>9.516000</td>\n",
              "    </tr>\n",
              "    <tr>\n",
              "      <th>162</th>\n",
              "      <td>2012.0</td>\n",
              "      <td>9.507333</td>\n",
              "    </tr>\n",
              "    <tr>\n",
              "      <th>163</th>\n",
              "      <td>2013.0</td>\n",
              "      <td>9.606500</td>\n",
              "    </tr>\n",
              "    <tr>\n",
              "      <th>164</th>\n",
              "      <td>2014.0</td>\n",
              "      <td>9.570667</td>\n",
              "    </tr>\n",
              "    <tr>\n",
              "      <th>165</th>\n",
              "      <td>2015.0</td>\n",
              "      <td>9.831000</td>\n",
              "    </tr>\n",
              "  </tbody>\n",
              "</table>\n",
              "<p>166 rows × 2 columns</p>\n",
              "</div>"
            ],
            "text/plain": [
              "        Ano  Temperatura Média em Terra\n",
              "0    1850.0                    7.900667\n",
              "1    1851.0                    8.178583\n",
              "2    1852.0                    8.100167\n",
              "3    1853.0                    8.041833\n",
              "4    1854.0                    8.210500\n",
              "..      ...                         ...\n",
              "161  2011.0                    9.516000\n",
              "162  2012.0                    9.507333\n",
              "163  2013.0                    9.606500\n",
              "164  2014.0                    9.570667\n",
              "165  2015.0                    9.831000\n",
              "\n",
              "[166 rows x 2 columns]"
            ]
          },
          "metadata": {
            "tags": []
          },
          "execution_count": 6
        }
      ]
    },
    {
      "cell_type": "code",
      "metadata": {
        "id": "fk89lUdoQkYA",
        "colab_type": "code",
        "outputId": "8a5ebba1-8832-4283-a967-19d7a6cc92cb",
        "colab": {
          "base_uri": "https://localhost:8080/",
          "height": 34
        }
      },
      "source": [
        "datalo,anoslo=media_pd(dados[1200:],\"LandAndOceanAverageTemperature\")"
      ],
      "execution_count": 0,
      "outputs": [
        {
          "output_type": "stream",
          "text": [
            "1993\n"
          ],
          "name": "stdout"
        }
      ]
    },
    {
      "cell_type": "code",
      "metadata": {
        "id": "OA5IO8NeTb5t",
        "colab_type": "code",
        "outputId": "981ae4d5-5581-4e78-f1c7-f05dfcd7850b",
        "colab": {
          "base_uri": "https://localhost:8080/",
          "height": 419
        }
      },
      "source": [
        "pd.DataFrame({\"Anos\":anoslo,\"Temperatura Média da Superfície do Planeta\":datalo})"
      ],
      "execution_count": 0,
      "outputs": [
        {
          "output_type": "execute_result",
          "data": {
            "text/html": [
              "<div>\n",
              "<style scoped>\n",
              "    .dataframe tbody tr th:only-of-type {\n",
              "        vertical-align: middle;\n",
              "    }\n",
              "\n",
              "    .dataframe tbody tr th {\n",
              "        vertical-align: top;\n",
              "    }\n",
              "\n",
              "    .dataframe thead th {\n",
              "        text-align: right;\n",
              "    }\n",
              "</style>\n",
              "<table border=\"1\" class=\"dataframe\">\n",
              "  <thead>\n",
              "    <tr style=\"text-align: right;\">\n",
              "      <th></th>\n",
              "      <th>Anos</th>\n",
              "      <th>Temperatura Média da Superfície do Planeta</th>\n",
              "    </tr>\n",
              "  </thead>\n",
              "  <tbody>\n",
              "    <tr>\n",
              "      <th>0</th>\n",
              "      <td>1850.0</td>\n",
              "      <td>14.867167</td>\n",
              "    </tr>\n",
              "    <tr>\n",
              "      <th>1</th>\n",
              "      <td>1851.0</td>\n",
              "      <td>14.991833</td>\n",
              "    </tr>\n",
              "    <tr>\n",
              "      <th>2</th>\n",
              "      <td>1852.0</td>\n",
              "      <td>15.006500</td>\n",
              "    </tr>\n",
              "    <tr>\n",
              "      <th>3</th>\n",
              "      <td>1853.0</td>\n",
              "      <td>14.955167</td>\n",
              "    </tr>\n",
              "    <tr>\n",
              "      <th>4</th>\n",
              "      <td>1854.0</td>\n",
              "      <td>14.991000</td>\n",
              "    </tr>\n",
              "    <tr>\n",
              "      <th>...</th>\n",
              "      <td>...</td>\n",
              "      <td>...</td>\n",
              "    </tr>\n",
              "    <tr>\n",
              "      <th>161</th>\n",
              "      <td>2011.0</td>\n",
              "      <td>15.769500</td>\n",
              "    </tr>\n",
              "    <tr>\n",
              "      <th>162</th>\n",
              "      <td>2012.0</td>\n",
              "      <td>15.802333</td>\n",
              "    </tr>\n",
              "    <tr>\n",
              "      <th>163</th>\n",
              "      <td>2013.0</td>\n",
              "      <td>15.854417</td>\n",
              "    </tr>\n",
              "    <tr>\n",
              "      <th>164</th>\n",
              "      <td>2014.0</td>\n",
              "      <td>15.913000</td>\n",
              "    </tr>\n",
              "    <tr>\n",
              "      <th>165</th>\n",
              "      <td>2015.0</td>\n",
              "      <td>16.058583</td>\n",
              "    </tr>\n",
              "  </tbody>\n",
              "</table>\n",
              "<p>166 rows × 2 columns</p>\n",
              "</div>"
            ],
            "text/plain": [
              "       Anos  Temperatura Média da Superfície do Planeta\n",
              "0    1850.0                                   14.867167\n",
              "1    1851.0                                   14.991833\n",
              "2    1852.0                                   15.006500\n",
              "3    1853.0                                   14.955167\n",
              "4    1854.0                                   14.991000\n",
              "..      ...                                         ...\n",
              "161  2011.0                                   15.769500\n",
              "162  2012.0                                   15.802333\n",
              "163  2013.0                                   15.854417\n",
              "164  2014.0                                   15.913000\n",
              "165  2015.0                                   16.058583\n",
              "\n",
              "[166 rows x 2 columns]"
            ]
          },
          "metadata": {
            "tags": []
          },
          "execution_count": 8
        }
      ]
    },
    {
      "cell_type": "markdown",
      "metadata": {
        "id": "c0pWz9e7R2pO",
        "colab_type": "text"
      },
      "source": [
        "## Objetivo do Projeto"
      ]
    },
    {
      "cell_type": "markdown",
      "metadata": {
        "id": "BVR4g2vYRCSD",
        "colab_type": "text"
      },
      "source": [
        "O objetivo do projeto é estipular duas retas que descrevam, de forma satisfatória, a variação da média das temperaturas anuais em terra, e na superfície do planeta como um todo (em terra e nos oceanos)."
      ]
    },
    {
      "cell_type": "markdown",
      "metadata": {
        "id": "i751_rF4I83W",
        "colab_type": "text"
      },
      "source": [
        "## Análise dos dados"
      ]
    },
    {
      "cell_type": "markdown",
      "metadata": {
        "id": "L1QlYZAxQ09r",
        "colab_type": "text"
      },
      "source": [
        "Abaixo, está uma breve descrição dos dados do Dataset"
      ]
    },
    {
      "cell_type": "code",
      "metadata": {
        "id": "vJU8D1MyMmhy",
        "colab_type": "code",
        "outputId": "3d7755fb-fb43-4131-d379-f063b3135bae",
        "colab": {
          "base_uri": "https://localhost:8080/",
          "height": 317
        }
      },
      "source": [
        "dados.describe()"
      ],
      "execution_count": 0,
      "outputs": [
        {
          "output_type": "execute_result",
          "data": {
            "text/html": [
              "<div>\n",
              "<style scoped>\n",
              "    .dataframe tbody tr th:only-of-type {\n",
              "        vertical-align: middle;\n",
              "    }\n",
              "\n",
              "    .dataframe tbody tr th {\n",
              "        vertical-align: top;\n",
              "    }\n",
              "\n",
              "    .dataframe thead th {\n",
              "        text-align: right;\n",
              "    }\n",
              "</style>\n",
              "<table border=\"1\" class=\"dataframe\">\n",
              "  <thead>\n",
              "    <tr style=\"text-align: right;\">\n",
              "      <th></th>\n",
              "      <th>LandAverageTemperature</th>\n",
              "      <th>LandAverageTemperatureUncertainty</th>\n",
              "      <th>LandMaxTemperature</th>\n",
              "      <th>LandMaxTemperatureUncertainty</th>\n",
              "      <th>LandMinTemperature</th>\n",
              "      <th>LandMinTemperatureUncertainty</th>\n",
              "      <th>LandAndOceanAverageTemperature</th>\n",
              "      <th>LandAndOceanAverageTemperatureUncertainty</th>\n",
              "    </tr>\n",
              "  </thead>\n",
              "  <tbody>\n",
              "    <tr>\n",
              "      <th>count</th>\n",
              "      <td>3180.000000</td>\n",
              "      <td>3180.000000</td>\n",
              "      <td>1992.000000</td>\n",
              "      <td>1992.000000</td>\n",
              "      <td>1992.000000</td>\n",
              "      <td>1992.000000</td>\n",
              "      <td>1992.000000</td>\n",
              "      <td>1992.000000</td>\n",
              "    </tr>\n",
              "    <tr>\n",
              "      <th>mean</th>\n",
              "      <td>8.374731</td>\n",
              "      <td>0.938468</td>\n",
              "      <td>14.350601</td>\n",
              "      <td>0.479782</td>\n",
              "      <td>2.743595</td>\n",
              "      <td>0.431849</td>\n",
              "      <td>15.212566</td>\n",
              "      <td>0.128532</td>\n",
              "    </tr>\n",
              "    <tr>\n",
              "      <th>std</th>\n",
              "      <td>4.381310</td>\n",
              "      <td>1.096440</td>\n",
              "      <td>4.309579</td>\n",
              "      <td>0.583203</td>\n",
              "      <td>4.155835</td>\n",
              "      <td>0.445838</td>\n",
              "      <td>1.274093</td>\n",
              "      <td>0.073587</td>\n",
              "    </tr>\n",
              "    <tr>\n",
              "      <th>min</th>\n",
              "      <td>-2.080000</td>\n",
              "      <td>0.034000</td>\n",
              "      <td>5.900000</td>\n",
              "      <td>0.044000</td>\n",
              "      <td>-5.407000</td>\n",
              "      <td>0.045000</td>\n",
              "      <td>12.475000</td>\n",
              "      <td>0.042000</td>\n",
              "    </tr>\n",
              "    <tr>\n",
              "      <th>25%</th>\n",
              "      <td>4.312000</td>\n",
              "      <td>0.186750</td>\n",
              "      <td>10.212000</td>\n",
              "      <td>0.142000</td>\n",
              "      <td>-1.334500</td>\n",
              "      <td>0.155000</td>\n",
              "      <td>14.047000</td>\n",
              "      <td>0.063000</td>\n",
              "    </tr>\n",
              "    <tr>\n",
              "      <th>50%</th>\n",
              "      <td>8.610500</td>\n",
              "      <td>0.392000</td>\n",
              "      <td>14.760000</td>\n",
              "      <td>0.252000</td>\n",
              "      <td>2.949500</td>\n",
              "      <td>0.279000</td>\n",
              "      <td>15.251000</td>\n",
              "      <td>0.122000</td>\n",
              "    </tr>\n",
              "    <tr>\n",
              "      <th>75%</th>\n",
              "      <td>12.548250</td>\n",
              "      <td>1.419250</td>\n",
              "      <td>18.451500</td>\n",
              "      <td>0.539000</td>\n",
              "      <td>6.778750</td>\n",
              "      <td>0.458250</td>\n",
              "      <td>16.396250</td>\n",
              "      <td>0.151000</td>\n",
              "    </tr>\n",
              "    <tr>\n",
              "      <th>max</th>\n",
              "      <td>19.021000</td>\n",
              "      <td>7.880000</td>\n",
              "      <td>21.320000</td>\n",
              "      <td>4.373000</td>\n",
              "      <td>9.715000</td>\n",
              "      <td>3.498000</td>\n",
              "      <td>17.611000</td>\n",
              "      <td>0.457000</td>\n",
              "    </tr>\n",
              "  </tbody>\n",
              "</table>\n",
              "</div>"
            ],
            "text/plain": [
              "       LandAverageTemperature  ...  LandAndOceanAverageTemperatureUncertainty\n",
              "count             3180.000000  ...                                1992.000000\n",
              "mean                 8.374731  ...                                   0.128532\n",
              "std                  4.381310  ...                                   0.073587\n",
              "min                 -2.080000  ...                                   0.042000\n",
              "25%                  4.312000  ...                                   0.063000\n",
              "50%                  8.610500  ...                                   0.122000\n",
              "75%                 12.548250  ...                                   0.151000\n",
              "max                 19.021000  ...                                   0.457000\n",
              "\n",
              "[8 rows x 8 columns]"
            ]
          },
          "metadata": {
            "tags": []
          },
          "execution_count": 9
        }
      ]
    },
    {
      "cell_type": "markdown",
      "metadata": {
        "id": "aWAtzWNjcoTt",
        "colab_type": "text"
      },
      "source": [
        "### Estimativa das correlações entre os dados"
      ]
    },
    {
      "cell_type": "code",
      "metadata": {
        "id": "PJ7LFUnJ_dg8",
        "colab_type": "code",
        "outputId": "8d759fae-b62c-491c-b1f1-6fe2337e3ce9",
        "colab": {
          "base_uri": "https://localhost:8080/",
          "height": 317
        }
      },
      "source": [
        "dados.corr().round(4)"
      ],
      "execution_count": 0,
      "outputs": [
        {
          "output_type": "execute_result",
          "data": {
            "text/html": [
              "<div>\n",
              "<style scoped>\n",
              "    .dataframe tbody tr th:only-of-type {\n",
              "        vertical-align: middle;\n",
              "    }\n",
              "\n",
              "    .dataframe tbody tr th {\n",
              "        vertical-align: top;\n",
              "    }\n",
              "\n",
              "    .dataframe thead th {\n",
              "        text-align: right;\n",
              "    }\n",
              "</style>\n",
              "<table border=\"1\" class=\"dataframe\">\n",
              "  <thead>\n",
              "    <tr style=\"text-align: right;\">\n",
              "      <th></th>\n",
              "      <th>LandAverageTemperature</th>\n",
              "      <th>LandAverageTemperatureUncertainty</th>\n",
              "      <th>LandMaxTemperature</th>\n",
              "      <th>LandMaxTemperatureUncertainty</th>\n",
              "      <th>LandMinTemperature</th>\n",
              "      <th>LandMinTemperatureUncertainty</th>\n",
              "      <th>LandAndOceanAverageTemperature</th>\n",
              "      <th>LandAndOceanAverageTemperatureUncertainty</th>\n",
              "    </tr>\n",
              "  </thead>\n",
              "  <tbody>\n",
              "    <tr>\n",
              "      <th>LandAverageTemperature</th>\n",
              "      <td>1.0000</td>\n",
              "      <td>-0.2042</td>\n",
              "      <td>0.9958</td>\n",
              "      <td>-0.1085</td>\n",
              "      <td>0.9956</td>\n",
              "      <td>-0.1675</td>\n",
              "      <td>0.9881</td>\n",
              "      <td>-0.1314</td>\n",
              "    </tr>\n",
              "    <tr>\n",
              "      <th>LandAverageTemperatureUncertainty</th>\n",
              "      <td>-0.2042</td>\n",
              "      <td>1.0000</td>\n",
              "      <td>-0.1329</td>\n",
              "      <td>0.8669</td>\n",
              "      <td>-0.1651</td>\n",
              "      <td>0.8887</td>\n",
              "      <td>-0.2080</td>\n",
              "      <td>0.9724</td>\n",
              "    </tr>\n",
              "    <tr>\n",
              "      <th>LandMaxTemperature</th>\n",
              "      <td>0.9958</td>\n",
              "      <td>-0.1329</td>\n",
              "      <td>1.0000</td>\n",
              "      <td>-0.1053</td>\n",
              "      <td>0.9934</td>\n",
              "      <td>-0.1600</td>\n",
              "      <td>0.9839</td>\n",
              "      <td>-0.1206</td>\n",
              "    </tr>\n",
              "    <tr>\n",
              "      <th>LandMaxTemperatureUncertainty</th>\n",
              "      <td>-0.1085</td>\n",
              "      <td>0.8669</td>\n",
              "      <td>-0.1053</td>\n",
              "      <td>1.0000</td>\n",
              "      <td>-0.1233</td>\n",
              "      <td>0.8687</td>\n",
              "      <td>-0.1634</td>\n",
              "      <td>0.8604</td>\n",
              "    </tr>\n",
              "    <tr>\n",
              "      <th>LandMinTemperature</th>\n",
              "      <td>0.9956</td>\n",
              "      <td>-0.1651</td>\n",
              "      <td>0.9934</td>\n",
              "      <td>-0.1233</td>\n",
              "      <td>1.0000</td>\n",
              "      <td>-0.1855</td>\n",
              "      <td>0.9864</td>\n",
              "      <td>-0.1549</td>\n",
              "    </tr>\n",
              "    <tr>\n",
              "      <th>LandMinTemperatureUncertainty</th>\n",
              "      <td>-0.1675</td>\n",
              "      <td>0.8887</td>\n",
              "      <td>-0.1600</td>\n",
              "      <td>0.8687</td>\n",
              "      <td>-0.1855</td>\n",
              "      <td>1.0000</td>\n",
              "      <td>-0.2217</td>\n",
              "      <td>0.8801</td>\n",
              "    </tr>\n",
              "    <tr>\n",
              "      <th>LandAndOceanAverageTemperature</th>\n",
              "      <td>0.9881</td>\n",
              "      <td>-0.2080</td>\n",
              "      <td>0.9839</td>\n",
              "      <td>-0.1634</td>\n",
              "      <td>0.9864</td>\n",
              "      <td>-0.2217</td>\n",
              "      <td>1.0000</td>\n",
              "      <td>-0.2031</td>\n",
              "    </tr>\n",
              "    <tr>\n",
              "      <th>LandAndOceanAverageTemperatureUncertainty</th>\n",
              "      <td>-0.1314</td>\n",
              "      <td>0.9724</td>\n",
              "      <td>-0.1206</td>\n",
              "      <td>0.8604</td>\n",
              "      <td>-0.1549</td>\n",
              "      <td>0.8801</td>\n",
              "      <td>-0.2031</td>\n",
              "      <td>1.0000</td>\n",
              "    </tr>\n",
              "  </tbody>\n",
              "</table>\n",
              "</div>"
            ],
            "text/plain": [
              "                                           LandAverageTemperature  ...  LandAndOceanAverageTemperatureUncertainty\n",
              "LandAverageTemperature                                     1.0000  ...                                    -0.1314\n",
              "LandAverageTemperatureUncertainty                         -0.2042  ...                                     0.9724\n",
              "LandMaxTemperature                                         0.9958  ...                                    -0.1206\n",
              "LandMaxTemperatureUncertainty                             -0.1085  ...                                     0.8604\n",
              "LandMinTemperature                                         0.9956  ...                                    -0.1549\n",
              "LandMinTemperatureUncertainty                             -0.1675  ...                                     0.8801\n",
              "LandAndOceanAverageTemperature                             0.9881  ...                                    -0.2031\n",
              "LandAndOceanAverageTemperatureUncertainty                 -0.1314  ...                                     1.0000\n",
              "\n",
              "[8 rows x 8 columns]"
            ]
          },
          "metadata": {
            "tags": []
          },
          "execution_count": 10
        }
      ]
    },
    {
      "cell_type": "markdown",
      "metadata": {
        "id": "g_6t_ZycJyQ3",
        "colab_type": "text"
      },
      "source": [
        "## Visualização Gráfica dos dados"
      ]
    },
    {
      "cell_type": "markdown",
      "metadata": {
        "id": "1ETJMbtaJc0k",
        "colab_type": "text"
      },
      "source": [
        "### Temperatura Média Anual em Terra X Anos"
      ]
    },
    {
      "cell_type": "code",
      "metadata": {
        "id": "9zW2UA3BJJ2V",
        "colab_type": "code",
        "outputId": "0a238833-abd8-4e54-8726-1e2fe46513cf",
        "colab": {
          "base_uri": "https://localhost:8080/",
          "height": 388
        }
      },
      "source": [
        "plt.figure(figsize=(12,6))\n",
        "plt.plot(anosl,datal,'-')\n",
        "plt.xlabel('Anos')\n",
        "plt.ylabel('Temperatura')\n",
        "plt.show()"
      ],
      "execution_count": 0,
      "outputs": [
        {
          "output_type": "display_data",
          "data": {
            "image/png": "[encoded data removed]",
            "text/plain": [
              "<Figure size 864x432 with 1 Axes>"
            ]
          },
          "metadata": {
            "tags": []
          }
        }
      ]
    },
    {
      "cell_type": "markdown",
      "metadata": {
        "id": "_pQsMZG1X1r3",
        "colab_type": "text"
      },
      "source": [
        "### Distribuição da Frequência das Médias Anuais das Temperaturas em Terra"
      ]
    },
    {
      "cell_type": "code",
      "metadata": {
        "id": "FK7Rv3yoIdAe",
        "colab_type": "code",
        "outputId": "fdcac425-22af-45ab-f2fc-4557015af521",
        "colab": {
          "base_uri": "https://localhost:8080/",
          "height": 320
        }
      },
      "source": [
        "ax = sns.distplot(datal)\n",
        "ax.figure.set_size_inches(12,5)"
      ],
      "execution_count": 0,
      "outputs": [
        {
          "output_type": "display_data",
          "data": {
            "image/png": "[encoded data removed]",
            "text/plain": [
              "<Figure size 864x360 with 1 Axes>"
            ]
          },
          "metadata": {
            "tags": []
          }
        }
      ]
    },
    {
      "cell_type": "markdown",
      "metadata": {
        "id": "aDh2R9pZKf-8",
        "colab_type": "text"
      },
      "source": [
        "### Temperatura Média Anual na Superfície Terrestre"
      ]
    },
    {
      "cell_type": "code",
      "metadata": {
        "id": "iL0hZVnPKo6L",
        "colab_type": "code",
        "outputId": "51cb9639-e92c-49e6-98e3-12aeff8f25d3",
        "colab": {
          "base_uri": "https://localhost:8080/",
          "height": 388
        }
      },
      "source": [
        "plt.figure(figsize=(12,6))\n",
        "plt.plot(anoslo,datalo,'-')\n",
        "plt.xlabel('Anos')\n",
        "plt.ylabel('Temperatura')\n",
        "plt.show()"
      ],
      "execution_count": 0,
      "outputs": [
        {
          "output_type": "display_data",
          "data": {
            "image/png": "[encoded data removed]",
            "text/plain": [
              "<Figure size 864x432 with 1 Axes>"
            ]
          },
          "metadata": {
            "tags": []
          }
        }
      ]
    },
    {
      "cell_type": "markdown",
      "metadata": {
        "id": "DRFX_jH9XiML",
        "colab_type": "text"
      },
      "source": [
        "### Distribuição da Frequência das Médias Anuais Temperaturas na Superfície"
      ]
    },
    {
      "cell_type": "code",
      "metadata": {
        "id": "IJXvVftzTWV-",
        "colab_type": "code",
        "outputId": "d024e313-0403-4754-dd54-d5269699b910",
        "colab": {
          "base_uri": "https://localhost:8080/",
          "height": 320
        }
      },
      "source": [
        "ax = sns.distplot(datalo)\n",
        "ax.figure.set_size_inches(12,5)"
      ],
      "execution_count": 0,
      "outputs": [
        {
          "output_type": "display_data",
          "data": {
            "image/png": "[encoded data removed]",
            "text/plain": [
              "<Figure size 864x360 with 1 Axes>"
            ]
          },
          "metadata": {
            "tags": []
          }
        }
      ]
    },
    {
      "cell_type": "markdown",
      "metadata": {
        "id": "ksZSe7KyK0lC",
        "colab_type": "text"
      },
      "source": [
        "## Regressão Linear"
      ]
    },
    {
      "cell_type": "markdown",
      "metadata": {
        "id": "HBsUt324PSME",
        "colab_type": "text"
      },
      "source": [
        "Através da função reg_linear(), foi construida a reta da regressão linear para as temperaturas médias anuais em terra, e na superfície do planeta."
      ]
    },
    {
      "cell_type": "markdown",
      "metadata": {
        "id": "r5nAnE4vLC0F",
        "colab_type": "text"
      },
      "source": [
        "### Temperatura Média Anual em Terra X Anos"
      ]
    },
    {
      "cell_type": "code",
      "metadata": {
        "id": "qKKmIPqBFtFi",
        "colab_type": "code",
        "colab": {}
      },
      "source": [
        "poltemp=reg_linear(anosl,datal)\n",
        "resp=[poltemp(valor) for valor in anosl]"
      ],
      "execution_count": 0,
      "outputs": []
    },
    {
      "cell_type": "code",
      "metadata": {
        "id": "DOTwC4M3LOBL",
        "colab_type": "code",
        "outputId": "a2af1adf-1fcf-4c74-a93b-ee57e2c99bb9",
        "colab": {
          "base_uri": "https://localhost:8080/",
          "height": 34
        }
      },
      "source": [
        "print(\"Polinômio da Regressão: {}+{}x\".format(list(poltemp)[0],list(poltemp)[1]))"
      ],
      "execution_count": 0,
      "outputs": [
        {
          "output_type": "stream",
          "text": [
            "Polinômio da Regressão: -7.915644176042104+0.00853155343201418x\n"
          ],
          "name": "stdout"
        }
      ]
    },
    {
      "cell_type": "code",
      "metadata": {
        "id": "qWx6NHHBGPNm",
        "colab_type": "code",
        "outputId": "19546400-c3b1-4788-be51-896c2f48608d",
        "colab": {
          "base_uri": "https://localhost:8080/",
          "height": 388
        }
      },
      "source": [
        "plt.figure(figsize=(12,6))\n",
        "plt.plot(anosl,datal,'o',anosl,resp,'-')\n",
        "plt.xlabel('Anos')\n",
        "plt.ylabel('Temperatura')\n",
        "plt.show()\n"
      ],
      "execution_count": 0,
      "outputs": [
        {
          "output_type": "display_data",
          "data": {
            "image/png": "[encoded data removed]",
            "text/plain": [
              "<Figure size 864x432 with 1 Axes>"
            ]
          },
          "metadata": {
            "tags": []
          }
        }
      ]
    },
    {
      "cell_type": "markdown",
      "metadata": {
        "id": "5c_V8JLLM5yA",
        "colab_type": "text"
      },
      "source": [
        "### Temperatura Média na Superfície Terreste X Anos"
      ]
    },
    {
      "cell_type": "code",
      "metadata": {
        "id": "OPK9HmNd_6b7",
        "colab_type": "code",
        "colab": {}
      },
      "source": [
        "poltemplo=reg_linear(anoslo,datalo)\n",
        "resplo=[poltemplo(valorlo) for valorlo in anoslo]"
      ],
      "execution_count": 0,
      "outputs": []
    },
    {
      "cell_type": "code",
      "metadata": {
        "id": "ShKg_poUNFa4",
        "colab_type": "code",
        "outputId": "714fd1ae-0bd3-42a0-d0fe-ad3ee0f4e4d8",
        "colab": {
          "base_uri": "https://localhost:8080/",
          "height": 34
        }
      },
      "source": [
        "print(\"Polinômio da Regressão: {}+{}x\".format(list(poltemplo)[0],list(poltemplo)[1]))"
      ],
      "execution_count": 0,
      "outputs": [
        {
          "output_type": "stream",
          "text": [
            "Polinômio da Regressão: 4.873551343111936+0.0053500721448591325x\n"
          ],
          "name": "stdout"
        }
      ]
    },
    {
      "cell_type": "code",
      "metadata": {
        "id": "x6TNf69n_yef",
        "colab_type": "code",
        "outputId": "bed4e9b1-4e9c-4719-f609-fa7358e23e08",
        "colab": {
          "base_uri": "https://localhost:8080/",
          "height": 388
        }
      },
      "source": [
        "plt.figure(figsize=(12,6))\n",
        "plt.plot(anoslo,datalo,'o',anoslo,resplo,'-')\n",
        "plt.xlabel('Anos')\n",
        "plt.ylabel('Temperatura')\n",
        "plt.show()"
      ],
      "execution_count": 0,
      "outputs": [
        {
          "output_type": "display_data",
          "data": {
            "image/png": "[encoded data removed]",
            "text/plain": [
              "<Figure size 864x432 with 1 Axes>"
            ]
          },
          "metadata": {
            "tags": []
          }
        }
      ]
    },
    {
      "cell_type": "markdown",
      "metadata": {
        "id": "YCOa-SK2NYDA",
        "colab_type": "text"
      },
      "source": [
        "## Análise dos Coeficientes de Determinação $R^2$"
      ]
    },
    {
      "cell_type": "markdown",
      "metadata": {
        "id": "2kFbzcyLNcE7",
        "colab_type": "text"
      },
      "source": [
        "Através do Método do Coeficiente $R^2$, foi análisado o quanto as retas obtidas através da regressão linear se adequam aos dados. O resultado obtido foi muito satisfatório, uma vez que o coeficiente apresentou um valor aceitável para o grau deste polinômio, tendo em vista a distribuição dos dados no decorrer dos anos.\n",
        "\n",
        "Embora esta não seja a maneira mais adequada de verificação da eficácia da regressão, uma vez que testa valores que já foram utilizadas na criação da mesma, indica que a reta consegue descrever de maneira bem aceitável os dados obtidos."
      ]
    },
    {
      "cell_type": "markdown",
      "metadata": {
        "id": "N7P1oi0EZeOX",
        "colab_type": "text"
      },
      "source": [
        "### Temperatura Média Anual em Terra X Anos"
      ]
    },
    {
      "cell_type": "code",
      "metadata": {
        "id": "QRhbhSGCMcMA",
        "colab_type": "code",
        "outputId": "f5c1ca39-2e37-498c-d19f-4af2b44aee38",
        "colab": {
          "base_uri": "https://localhost:8080/",
          "height": 34
        }
      },
      "source": [
        "r2(resp,datal)"
      ],
      "execution_count": 0,
      "outputs": [
        {
          "output_type": "execute_result",
          "data": {
            "text/plain": [
              "0.6656084160242473"
            ]
          },
          "metadata": {
            "tags": []
          },
          "execution_count": 21
        }
      ]
    },
    {
      "cell_type": "markdown",
      "metadata": {
        "id": "tQoRTsyAZk9D",
        "colab_type": "text"
      },
      "source": [
        "### Temperatura Média Anual na Superfície X Anos"
      ]
    },
    {
      "cell_type": "code",
      "metadata": {
        "id": "aRaFOTHdBvU2",
        "colab_type": "code",
        "outputId": "6cafe11d-e450-449d-f30b-afce885f865f",
        "colab": {
          "base_uri": "https://localhost:8080/",
          "height": 34
        }
      },
      "source": [
        "r2(resplo,datalo)"
      ],
      "execution_count": 0,
      "outputs": [
        {
          "output_type": "execute_result",
          "data": {
            "text/plain": [
              "0.6513433426829771"
            ]
          },
          "metadata": {
            "tags": []
          },
          "execution_count": 22
        }
      ]
    },
    {
      "cell_type": "markdown",
      "metadata": {
        "id": "p8tqy569RtWM",
        "colab_type": "text"
      },
      "source": [
        "## Referências"
      ]
    },
    {
      "cell_type": "markdown",
      "metadata": {
        "id": "VtRQDlgjRwqM",
        "colab_type": "text"
      },
      "source": [
        "Berkeley Earth. Climate Change: Earth Surface Temperature Data. Disponível em: kaggle.com/berkeleyearth/climate-change-earth-surface-temperature-data#GlobalTemperatures.csv. Acesso: 18/12/2019"
      ]
    }
  ]
}