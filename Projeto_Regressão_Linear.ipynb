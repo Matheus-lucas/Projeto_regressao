{
  "nbformat": 4,
  "nbformat_minor": 0,
  "metadata": {
    "colab": {
      "name": "Projeto Regressão Linear.ipynb",
      "provenance": [],
      "collapsed_sections": [],
      "include_colab_link": true
    },
    "kernelspec": {
      "name": "python3",
      "display_name": "Python 3"
    }
  },
  "cells": [
    {
      "cell_type": "markdown",
      "metadata": {
        "id": "view-in-github",
        "colab_type": "text"
      },
      "source": [
        "<a href=\"https://colab.research.google.com/github/matheus-bokus/Projeto_regressao/blob/master/Projeto_Regress%C3%A3o_Linear.ipynb\" target=\"_parent\"><img src=\"https://colab.research.google.com/assets/colab-badge.svg\" alt=\"Open In Colab\"/></a>"
      ]
    },
    {
      "cell_type": "markdown",
      "metadata": {
        "id": "2Pg2N0u6P5rM",
        "colab_type": "text"
      },
      "source": [
        "# Regressão Linear da Temperatura Média Anual da Superfície Terrestre"
      ]
    },
    {
      "cell_type": "markdown",
      "metadata": {
        "id": "jEBkGURIDTfS",
        "colab_type": "text"
      },
      "source": [
        "### Bibliotecas"
      ]
    },
    {
      "cell_type": "code",
      "metadata": {
        "id": "762OegN1BbL3",
        "colab_type": "code",
        "colab": {}
      },
      "source": [
        "import numpy as np\n",
        "from numpy.polynomial import Polynomial as P\n",
        "import pandas as pd\n",
        "import matplotlib.pyplot as plt\n",
        "import seaborn as sns\n",
        "from sklearn.metrics import r2_score as r2\n",
        "import seaborn as sns"
      ],
      "execution_count": 0,
      "outputs": []
    },
    {
      "cell_type": "markdown",
      "metadata": {
        "id": "cg6l_ReaDZwJ",
        "colab_type": "text"
      },
      "source": [
        "### Funcão da Regressão"
      ]
    },
    {
      "cell_type": "code",
      "metadata": {
        "id": "s7lSlD_FITTq",
        "colab_type": "code",
        "colab": {}
      },
      "source": [
        "def reg_linear(x,y):\n",
        "  a=(sum(x*y)-(1/len(x))*sum(x)*sum(y))/(sum(x**2)-(1/len(x))*sum(x)**2)\n",
        "  b=np.mean(y)-np.mean(x)*a\n",
        "  return P([b,a])"
      ],
      "execution_count": 0,
      "outputs": []
    },
    {
      "cell_type": "markdown",
      "metadata": {
        "id": "8WWgQU8CDgrT",
        "colab_type": "text"
      },
      "source": [
        "### Calculo das médias anuais"
      ]
    },
    {
      "cell_type": "markdown",
      "metadata": {
        "id": "ECFQJ3xdDlxp",
        "colab_type": "text"
      },
      "source": [
        "Como o dataset tem os valores mensais das temperaturas, foi  necessário criar uma função que retornasse as médias anuais, para melhorar a visualização dos dados"
      ]
    },
    {
      "cell_type": "code",
      "metadata": {
        "id": "CTuXnVO0PI56",
        "colab_type": "code",
        "colab": {}
      },
      "source": [
        "def media_pd(datafram,string):\n",
        "  c=0\n",
        "  ano=0\n",
        "  data=np.zeros([int((datafram.shape[0])/12)]) #tamanho do dataset/12(o dataset foi dado em meses)\n",
        "  anos=np.zeros([int((datafram.shape[0])/12)]) #tamanho do dataset/12(o dataset foi dado em meses)\n",
        "  print(datafram.shape[0]+1)\n",
        "  for i in range(1,datafram.shape[0]+1): #até o final do dataset\n",
        "    if i%12==0: #Para fazer por ano\n",
        "      if np.isnan((sum(datafram[string][c:i])/12)): #testa se são nan\n",
        "        data[ano]=data[ano-1] #se for nan, recebe 0(nan vai causar erros nos métodos mais adiante)\n",
        "      else:\n",
        "        data[ano]=(sum(datafram[string][c:i])/12) #recebe os valores dos 12 meses, e calcula a média\n",
        "      anos[ano]=1850+ano #vai calculandos os anos referentes a cada temperetura média\n",
        "      c=i #recebe o valor de i, quando i=12*n, ou seja, o valor referentes ao final do ano anterior\n",
        "      ano+=1 #acrescendo os anos\n",
        "  return data,anos"
      ],
      "execution_count": 0,
      "outputs": []
    },
    {
      "cell_type": "markdown",
      "metadata": {
        "id": "7rqkfixcD2-u",
        "colab_type": "text"
      },
      "source": [
        "## Dados"
      ]
    },
    {
      "cell_type": "markdown",
      "metadata": {
        "id": "CmQ0d0_zD69M",
        "colab_type": "text"
      },
      "source": [
        "A elevação da temperatura da superfície do planeta Terra é uma preocupação constante, pois afeta diretamente a vida de todos os seres vivos no mesmo, bem como da própria configuração geográfica do planeta, uma vez que a elevação da mesma causa deglaciação, e aumento dos niveis marítmos. Assim, seu monitoramento é crucial para a manutenção da vida, e uma estimativa precisa desse aumento é necessária, de forma a impedir maiores infórtúnios ambientais. \n",
        "\n",
        "O dataset escolhido, Climate Change: Earth Surface Temperature Data( Mudanças Climáticas: Dados da Temperatura na Superfície Terrestre), concatenou dados obtidos desde o ano de 1750, até 2015. Os dados iniciais foram coletados por técnicos usando termômetros de mercúrio, que estaja sujeito a vários erros, que poderiam afetar as medições. Na década de 1980, houve uma mudança para termômetros eletrônicos que, segundo se diz, têm um viés de resfriamento.\n",
        "\n",
        "Dada a complexidade dos estudos sobre a temperatura, seus efeitos, e as causas da sua elevação, existem várias organizações que coletam dados de tendências climáticas. Os três conjuntos de dados de temperatura de terra e oceano mais citados são o MLOST da NOAA, o GISTEMP da NASA e o HadCrut do Reino Unido.\n",
        "Os dados foram reempacotados de uma compilação mais recente reunida pelo Berkeley Earth, afiliada ao Laboratório Nacional Lawrence Berkeley. O Estudo de Temperatura da Superfície Terrestre de Berkeley combina 1,6 bilhão de relatórios de temperatura de 16 arquivos pré-existentes.\n",
        "\n",
        "Neste conjunto de dados, foram incluídos vários arquivos:\n",
        "\n",
        "* **Data** : começa em 1750 para temperatura média da terra e 1850 para temperaturas máxima e mínima da terra e temperaturas globais do oceano e da terra\n",
        "* **LandAverageTemperatureUncertainty** : temperatura média global da terra em graus Celsius\n",
        "* **Incerteza LandAverageTemperature **: o intervalo de confiança de 95% em torno da média\n",
        "* **LandMaxTemperature** : temperatura máxima média global da terra em graus Celsius\n",
        "* **LandMaxTemperatureUncertainty** : o intervalo de confiança de 95% em torno da temperatura máxima da terra\n",
        "* **LandMinTemperature** : temperatura mínima média global da terra em graus Celsius\n",
        "* **LandMinTemperatureUncertainty** : o intervalo de confiança de 95% em torno da temperatura mínima do solo\n",
        "* **LandAndOceanAverageTemperature** : temperatura média global da terra e do oceano em graus Celsius\n",
        "* **LandAndOceanAverageTemperatureUncertainty**: o intervalo de confiança de 95% em torno da temperatura média global da terra e do oceano\n",
        "\n",
        "\n",
        "* Obs: Para os estudos a seguir, foram utilizados apenas os dados coletados a partir do ano de 1850, que contém os dados relativos as temperaturas médias dos oceanos e em terra."
      ]
    },
    {
      "cell_type": "code",
      "metadata": {
        "id": "IVfwq9kQ6VWo",
        "colab_type": "code",
        "colab": {
          "base_uri": "https://localhost:8080/",
          "height": 392
        },
        "outputId": "7912736c-91fb-4de6-8810-8a6e2e8775a9"
      },
      "source": [
        "dados = pd.read_csv(\"GlobalTemperatures.csv\",sep=\",\")\n",
        "dados.head()"
      ],
      "execution_count": 27,
      "outputs": [
        {
          "output_type": "error",
          "ename": "FileNotFoundError",
          "evalue": "ignored",
          "traceback": [
            "\u001b[0;31m---------------------------------------------------------------------------\u001b[0m",
            "\u001b[0;31mFileNotFoundError\u001b[0m                         Traceback (most recent call last)",
            "\u001b[0;32m<ipython-input-27-e483c533fac1>\u001b[0m in \u001b[0;36m<module>\u001b[0;34m()\u001b[0m\n\u001b[0;32m----> 1\u001b[0;31m \u001b[0mdados\u001b[0m \u001b[0;34m=\u001b[0m \u001b[0mpd\u001b[0m\u001b[0;34m.\u001b[0m\u001b[0mread_csv\u001b[0m\u001b[0;34m(\u001b[0m\u001b[0;34m\"GlobalTemperatures.csv\"\u001b[0m\u001b[0;34m,\u001b[0m\u001b[0msep\u001b[0m\u001b[0;34m=\u001b[0m\u001b[0;34m\",\"\u001b[0m\u001b[0;34m)\u001b[0m\u001b[0;34m\u001b[0m\u001b[0;34m\u001b[0m\u001b[0m\n\u001b[0m\u001b[1;32m      2\u001b[0m \u001b[0mdados\u001b[0m\u001b[0;34m.\u001b[0m\u001b[0mhead\u001b[0m\u001b[0;34m(\u001b[0m\u001b[0;34m)\u001b[0m\u001b[0;34m\u001b[0m\u001b[0;34m\u001b[0m\u001b[0m\n",
            "\u001b[0;32m/usr/local/lib/python3.6/dist-packages/pandas/io/parsers.py\u001b[0m in \u001b[0;36mparser_f\u001b[0;34m(filepath_or_buffer, sep, delimiter, header, names, index_col, usecols, squeeze, prefix, mangle_dupe_cols, dtype, engine, converters, true_values, false_values, skipinitialspace, skiprows, skipfooter, nrows, na_values, keep_default_na, na_filter, verbose, skip_blank_lines, parse_dates, infer_datetime_format, keep_date_col, date_parser, dayfirst, cache_dates, iterator, chunksize, compression, thousands, decimal, lineterminator, quotechar, quoting, doublequote, escapechar, comment, encoding, dialect, error_bad_lines, warn_bad_lines, delim_whitespace, low_memory, memory_map, float_precision)\u001b[0m\n\u001b[1;32m    683\u001b[0m         )\n\u001b[1;32m    684\u001b[0m \u001b[0;34m\u001b[0m\u001b[0m\n\u001b[0;32m--> 685\u001b[0;31m         \u001b[0;32mreturn\u001b[0m \u001b[0m_read\u001b[0m\u001b[0;34m(\u001b[0m\u001b[0mfilepath_or_buffer\u001b[0m\u001b[0;34m,\u001b[0m \u001b[0mkwds\u001b[0m\u001b[0;34m)\u001b[0m\u001b[0;34m\u001b[0m\u001b[0;34m\u001b[0m\u001b[0m\n\u001b[0m\u001b[1;32m    686\u001b[0m \u001b[0;34m\u001b[0m\u001b[0m\n\u001b[1;32m    687\u001b[0m     \u001b[0mparser_f\u001b[0m\u001b[0;34m.\u001b[0m\u001b[0m__name__\u001b[0m \u001b[0;34m=\u001b[0m \u001b[0mname\u001b[0m\u001b[0;34m\u001b[0m\u001b[0;34m\u001b[0m\u001b[0m\n",
            "\u001b[0;32m/usr/local/lib/python3.6/dist-packages/pandas/io/parsers.py\u001b[0m in \u001b[0;36m_read\u001b[0;34m(filepath_or_buffer, kwds)\u001b[0m\n\u001b[1;32m    455\u001b[0m \u001b[0;34m\u001b[0m\u001b[0m\n\u001b[1;32m    456\u001b[0m     \u001b[0;31m# Create the parser.\u001b[0m\u001b[0;34m\u001b[0m\u001b[0;34m\u001b[0m\u001b[0;34m\u001b[0m\u001b[0m\n\u001b[0;32m--> 457\u001b[0;31m     \u001b[0mparser\u001b[0m \u001b[0;34m=\u001b[0m \u001b[0mTextFileReader\u001b[0m\u001b[0;34m(\u001b[0m\u001b[0mfp_or_buf\u001b[0m\u001b[0;34m,\u001b[0m \u001b[0;34m**\u001b[0m\u001b[0mkwds\u001b[0m\u001b[0;34m)\u001b[0m\u001b[0;34m\u001b[0m\u001b[0;34m\u001b[0m\u001b[0m\n\u001b[0m\u001b[1;32m    458\u001b[0m \u001b[0;34m\u001b[0m\u001b[0m\n\u001b[1;32m    459\u001b[0m     \u001b[0;32mif\u001b[0m \u001b[0mchunksize\u001b[0m \u001b[0;32mor\u001b[0m \u001b[0miterator\u001b[0m\u001b[0;34m:\u001b[0m\u001b[0;34m\u001b[0m\u001b[0;34m\u001b[0m\u001b[0m\n",
            "\u001b[0;32m/usr/local/lib/python3.6/dist-packages/pandas/io/parsers.py\u001b[0m in \u001b[0;36m__init__\u001b[0;34m(self, f, engine, **kwds)\u001b[0m\n\u001b[1;32m    893\u001b[0m             \u001b[0mself\u001b[0m\u001b[0;34m.\u001b[0m\u001b[0moptions\u001b[0m\u001b[0;34m[\u001b[0m\u001b[0;34m\"has_index_names\"\u001b[0m\u001b[0;34m]\u001b[0m \u001b[0;34m=\u001b[0m \u001b[0mkwds\u001b[0m\u001b[0;34m[\u001b[0m\u001b[0;34m\"has_index_names\"\u001b[0m\u001b[0;34m]\u001b[0m\u001b[0;34m\u001b[0m\u001b[0;34m\u001b[0m\u001b[0m\n\u001b[1;32m    894\u001b[0m \u001b[0;34m\u001b[0m\u001b[0m\n\u001b[0;32m--> 895\u001b[0;31m         \u001b[0mself\u001b[0m\u001b[0;34m.\u001b[0m\u001b[0m_make_engine\u001b[0m\u001b[0;34m(\u001b[0m\u001b[0mself\u001b[0m\u001b[0;34m.\u001b[0m\u001b[0mengine\u001b[0m\u001b[0;34m)\u001b[0m\u001b[0;34m\u001b[0m\u001b[0;34m\u001b[0m\u001b[0m\n\u001b[0m\u001b[1;32m    896\u001b[0m \u001b[0;34m\u001b[0m\u001b[0m\n\u001b[1;32m    897\u001b[0m     \u001b[0;32mdef\u001b[0m \u001b[0mclose\u001b[0m\u001b[0;34m(\u001b[0m\u001b[0mself\u001b[0m\u001b[0;34m)\u001b[0m\u001b[0;34m:\u001b[0m\u001b[0;34m\u001b[0m\u001b[0;34m\u001b[0m\u001b[0m\n",
            "\u001b[0;32m/usr/local/lib/python3.6/dist-packages/pandas/io/parsers.py\u001b[0m in \u001b[0;36m_make_engine\u001b[0;34m(self, engine)\u001b[0m\n\u001b[1;32m   1133\u001b[0m     \u001b[0;32mdef\u001b[0m \u001b[0m_make_engine\u001b[0m\u001b[0;34m(\u001b[0m\u001b[0mself\u001b[0m\u001b[0;34m,\u001b[0m \u001b[0mengine\u001b[0m\u001b[0;34m=\u001b[0m\u001b[0;34m\"c\"\u001b[0m\u001b[0;34m)\u001b[0m\u001b[0;34m:\u001b[0m\u001b[0;34m\u001b[0m\u001b[0;34m\u001b[0m\u001b[0m\n\u001b[1;32m   1134\u001b[0m         \u001b[0;32mif\u001b[0m \u001b[0mengine\u001b[0m \u001b[0;34m==\u001b[0m \u001b[0;34m\"c\"\u001b[0m\u001b[0;34m:\u001b[0m\u001b[0;34m\u001b[0m\u001b[0;34m\u001b[0m\u001b[0m\n\u001b[0;32m-> 1135\u001b[0;31m             \u001b[0mself\u001b[0m\u001b[0;34m.\u001b[0m\u001b[0m_engine\u001b[0m \u001b[0;34m=\u001b[0m \u001b[0mCParserWrapper\u001b[0m\u001b[0;34m(\u001b[0m\u001b[0mself\u001b[0m\u001b[0;34m.\u001b[0m\u001b[0mf\u001b[0m\u001b[0;34m,\u001b[0m \u001b[0;34m**\u001b[0m\u001b[0mself\u001b[0m\u001b[0;34m.\u001b[0m\u001b[0moptions\u001b[0m\u001b[0;34m)\u001b[0m\u001b[0;34m\u001b[0m\u001b[0;34m\u001b[0m\u001b[0m\n\u001b[0m\u001b[1;32m   1136\u001b[0m         \u001b[0;32melse\u001b[0m\u001b[0;34m:\u001b[0m\u001b[0;34m\u001b[0m\u001b[0;34m\u001b[0m\u001b[0m\n\u001b[1;32m   1137\u001b[0m             \u001b[0;32mif\u001b[0m \u001b[0mengine\u001b[0m \u001b[0;34m==\u001b[0m \u001b[0;34m\"python\"\u001b[0m\u001b[0;34m:\u001b[0m\u001b[0;34m\u001b[0m\u001b[0;34m\u001b[0m\u001b[0m\n",
            "\u001b[0;32m/usr/local/lib/python3.6/dist-packages/pandas/io/parsers.py\u001b[0m in \u001b[0;36m__init__\u001b[0;34m(self, src, **kwds)\u001b[0m\n\u001b[1;32m   1915\u001b[0m         \u001b[0mkwds\u001b[0m\u001b[0;34m[\u001b[0m\u001b[0;34m\"usecols\"\u001b[0m\u001b[0;34m]\u001b[0m \u001b[0;34m=\u001b[0m \u001b[0mself\u001b[0m\u001b[0;34m.\u001b[0m\u001b[0musecols\u001b[0m\u001b[0;34m\u001b[0m\u001b[0;34m\u001b[0m\u001b[0m\n\u001b[1;32m   1916\u001b[0m \u001b[0;34m\u001b[0m\u001b[0m\n\u001b[0;32m-> 1917\u001b[0;31m         \u001b[0mself\u001b[0m\u001b[0;34m.\u001b[0m\u001b[0m_reader\u001b[0m \u001b[0;34m=\u001b[0m \u001b[0mparsers\u001b[0m\u001b[0;34m.\u001b[0m\u001b[0mTextReader\u001b[0m\u001b[0;34m(\u001b[0m\u001b[0msrc\u001b[0m\u001b[0;34m,\u001b[0m \u001b[0;34m**\u001b[0m\u001b[0mkwds\u001b[0m\u001b[0;34m)\u001b[0m\u001b[0;34m\u001b[0m\u001b[0;34m\u001b[0m\u001b[0m\n\u001b[0m\u001b[1;32m   1918\u001b[0m         \u001b[0mself\u001b[0m\u001b[0;34m.\u001b[0m\u001b[0munnamed_cols\u001b[0m \u001b[0;34m=\u001b[0m \u001b[0mself\u001b[0m\u001b[0;34m.\u001b[0m\u001b[0m_reader\u001b[0m\u001b[0;34m.\u001b[0m\u001b[0munnamed_cols\u001b[0m\u001b[0;34m\u001b[0m\u001b[0;34m\u001b[0m\u001b[0m\n\u001b[1;32m   1919\u001b[0m \u001b[0;34m\u001b[0m\u001b[0m\n",
            "\u001b[0;32mpandas/_libs/parsers.pyx\u001b[0m in \u001b[0;36mpandas._libs.parsers.TextReader.__cinit__\u001b[0;34m()\u001b[0m\n",
            "\u001b[0;32mpandas/_libs/parsers.pyx\u001b[0m in \u001b[0;36mpandas._libs.parsers.TextReader._setup_parser_source\u001b[0;34m()\u001b[0m\n",
            "\u001b[0;31mFileNotFoundError\u001b[0m: [Errno 2] File b'GlobalTemperatures.csv' does not exist: b'GlobalTemperatures.csv'"
          ]
        }
      ]
    },
    {
      "cell_type": "markdown",
      "metadata": {
        "id": "Tu9PftHgH-9F",
        "colab_type": "text"
      },
      "source": [
        "Porém, dado o tamanho do dataset, seria muito custoso, em termos de processamento de análise de dados, o analisar da forma que foi montado.\n",
        "Por isso, foi calculada as médias anuais das temperaturas, através da função media_pd(), de forma a melhorar  a análise dos dados"
      ]
    },
    {
      "cell_type": "code",
      "metadata": {
        "id": "NIePI41kQF3M",
        "colab_type": "code",
        "colab": {}
      },
      "source": [
        "datal,anosl=media_pd(dados[1200:],\"LandAverageTemperature\")"
      ],
      "execution_count": 0,
      "outputs": []
    },
    {
      "cell_type": "code",
      "metadata": {
        "id": "7RASBpnVFXDz",
        "colab_type": "code",
        "colab": {}
      },
      "source": [
        "pd.DataFrame({\"Ano\":anosl,\"Temperatura Média em Terra\":datal})"
      ],
      "execution_count": 0,
      "outputs": []
    },
    {
      "cell_type": "code",
      "metadata": {
        "id": "fk89lUdoQkYA",
        "colab_type": "code",
        "colab": {}
      },
      "source": [
        "datalo,anoslo=media_pd(dados[1200:],\"LandAndOceanAverageTemperature\")"
      ],
      "execution_count": 0,
      "outputs": []
    },
    {
      "cell_type": "code",
      "metadata": {
        "id": "OA5IO8NeTb5t",
        "colab_type": "code",
        "colab": {}
      },
      "source": [
        "pd.DataFrame({\"Anos\":anoslo,\"Temperatura Média da Superfície do Planeta\":datalo})"
      ],
      "execution_count": 0,
      "outputs": []
    },
    {
      "cell_type": "markdown",
      "metadata": {
        "id": "c0pWz9e7R2pO",
        "colab_type": "text"
      },
      "source": [
        "## Objetivo do Projeto"
      ]
    },
    {
      "cell_type": "markdown",
      "metadata": {
        "id": "BVR4g2vYRCSD",
        "colab_type": "text"
      },
      "source": [
        "O objetivo do projeto é estipular duas retas que descrevam, de forma satisfatória, a variação da média das temperaturas anuais em terra, e na superfície do planeta como um todo (em terra e nos oceanos)."
      ]
    },
    {
      "cell_type": "markdown",
      "metadata": {
        "id": "i751_rF4I83W",
        "colab_type": "text"
      },
      "source": [
        "## Análise dos dados"
      ]
    },
    {
      "cell_type": "markdown",
      "metadata": {
        "id": "L1QlYZAxQ09r",
        "colab_type": "text"
      },
      "source": [
        "Abaixo, está uma breve descrição dos dados do Dataset"
      ]
    },
    {
      "cell_type": "code",
      "metadata": {
        "id": "vJU8D1MyMmhy",
        "colab_type": "code",
        "colab": {}
      },
      "source": [
        "dados.describe()"
      ],
      "execution_count": 0,
      "outputs": []
    },
    {
      "cell_type": "markdown",
      "metadata": {
        "id": "aWAtzWNjcoTt",
        "colab_type": "text"
      },
      "source": [
        "### Estimativa das correlações entre os dados"
      ]
    },
    {
      "cell_type": "code",
      "metadata": {
        "id": "PJ7LFUnJ_dg8",
        "colab_type": "code",
        "colab": {}
      },
      "source": [
        "dados.corr().round(4)"
      ],
      "execution_count": 0,
      "outputs": []
    },
    {
      "cell_type": "markdown",
      "metadata": {
        "id": "g_6t_ZycJyQ3",
        "colab_type": "text"
      },
      "source": [
        "## Visualização Gráfica dos dados"
      ]
    },
    {
      "cell_type": "markdown",
      "metadata": {
        "id": "1ETJMbtaJc0k",
        "colab_type": "text"
      },
      "source": [
        "### Temperatura Média Anual em Terra X Anos"
      ]
    },
    {
      "cell_type": "code",
      "metadata": {
        "id": "9zW2UA3BJJ2V",
        "colab_type": "code",
        "colab": {}
      },
      "source": [
        "plt.figure(figsize=(12,6))\n",
        "plt.plot(anosl,datal,'-')\n",
        "plt.xlabel('Anos')\n",
        "plt.ylabel('Temperatura')\n",
        "plt.show()"
      ],
      "execution_count": 0,
      "outputs": []
    },
    {
      "cell_type": "markdown",
      "metadata": {
        "id": "_pQsMZG1X1r3",
        "colab_type": "text"
      },
      "source": [
        "### Distribuição da Frequência das Médias Anuais das Temperaturas em Terra"
      ]
    },
    {
      "cell_type": "code",
      "metadata": {
        "id": "FK7Rv3yoIdAe",
        "colab_type": "code",
        "colab": {}
      },
      "source": [
        "ax = sns.distplot(datal)\n",
        "ax.figure.set_size_inches(12,5)"
      ],
      "execution_count": 0,
      "outputs": []
    },
    {
      "cell_type": "markdown",
      "metadata": {
        "id": "aDh2R9pZKf-8",
        "colab_type": "text"
      },
      "source": [
        "### Temperatura Média Anual na Superfície Terrestre"
      ]
    },
    {
      "cell_type": "code",
      "metadata": {
        "id": "iL0hZVnPKo6L",
        "colab_type": "code",
        "colab": {}
      },
      "source": [
        "plt.figure(figsize=(12,6))\n",
        "plt.plot(anoslo,datalo,'-')\n",
        "plt.xlabel('Anos')\n",
        "plt.ylabel('Temperatura')\n",
        "plt.show()"
      ],
      "execution_count": 0,
      "outputs": []
    },
    {
      "cell_type": "markdown",
      "metadata": {
        "id": "DRFX_jH9XiML",
        "colab_type": "text"
      },
      "source": [
        "### Distribuição da Frequência das Médias Anuais Temperaturas na Superfície"
      ]
    },
    {
      "cell_type": "code",
      "metadata": {
        "id": "IJXvVftzTWV-",
        "colab_type": "code",
        "colab": {}
      },
      "source": [
        "ax = sns.distplot(datalo)\n",
        "ax.figure.set_size_inches(12,5)"
      ],
      "execution_count": 0,
      "outputs": []
    },
    {
      "cell_type": "markdown",
      "metadata": {
        "id": "ksZSe7KyK0lC",
        "colab_type": "text"
      },
      "source": [
        "## Regressão Linear"
      ]
    },
    {
      "cell_type": "markdown",
      "metadata": {
        "id": "HBsUt324PSME",
        "colab_type": "text"
      },
      "source": [
        "Através da função reg_linear(), foi construida a reta da regressão linear para as temperaturas médias anuais em terra, e na superfície do planeta."
      ]
    },
    {
      "cell_type": "markdown",
      "metadata": {
        "id": "r5nAnE4vLC0F",
        "colab_type": "text"
      },
      "source": [
        "### Temperatura Média Anual em Terra X Anos"
      ]
    },
    {
      "cell_type": "code",
      "metadata": {
        "id": "qKKmIPqBFtFi",
        "colab_type": "code",
        "colab": {}
      },
      "source": [
        "poltemp=reg_linear(anosl,datal)\n",
        "resp=[poltemp(valor) for valor in anosl]"
      ],
      "execution_count": 0,
      "outputs": []
    },
    {
      "cell_type": "code",
      "metadata": {
        "id": "DOTwC4M3LOBL",
        "colab_type": "code",
        "colab": {}
      },
      "source": [
        "print(\"Polinômio da Regressão: {}+{}x\".format(list(poltemp)[0],list(poltemp)[1]))"
      ],
      "execution_count": 0,
      "outputs": []
    },
    {
      "cell_type": "code",
      "metadata": {
        "id": "qWx6NHHBGPNm",
        "colab_type": "code",
        "colab": {}
      },
      "source": [
        "plt.figure(figsize=(12,6))\n",
        "plt.plot(anosl,datal,'o',anosl,resp,'-')\n",
        "plt.xlabel('Anos')\n",
        "plt.ylabel('Temperatura')\n",
        "plt.show()\n"
      ],
      "execution_count": 0,
      "outputs": []
    },
    {
      "cell_type": "markdown",
      "metadata": {
        "id": "5c_V8JLLM5yA",
        "colab_type": "text"
      },
      "source": [
        "### Temperatura Média na Superfície Terreste X Anos"
      ]
    },
    {
      "cell_type": "code",
      "metadata": {
        "id": "OPK9HmNd_6b7",
        "colab_type": "code",
        "colab": {}
      },
      "source": [
        "poltemplo=reg_linear(anoslo,datalo)\n",
        "resplo=[poltemplo(valorlo) for valorlo in anoslo]"
      ],
      "execution_count": 0,
      "outputs": []
    },
    {
      "cell_type": "code",
      "metadata": {
        "id": "ShKg_poUNFa4",
        "colab_type": "code",
        "colab": {}
      },
      "source": [
        "print(\"Polinômio da Regressão: {}+{}x\".format(list(poltemplo)[0],list(poltemplo)[1]))"
      ],
      "execution_count": 0,
      "outputs": []
    },
    {
      "cell_type": "code",
      "metadata": {
        "id": "x6TNf69n_yef",
        "colab_type": "code",
        "colab": {}
      },
      "source": [
        "plt.figure(figsize=(12,6))\n",
        "plt.plot(anoslo,datalo,'o',anoslo,resplo,'-')\n",
        "plt.xlabel('Anos')\n",
        "plt.ylabel('Temperatura')\n",
        "plt.show()"
      ],
      "execution_count": 0,
      "outputs": []
    },
    {
      "cell_type": "markdown",
      "metadata": {
        "id": "YCOa-SK2NYDA",
        "colab_type": "text"
      },
      "source": [
        "## Análise dos Coeficientes de Determinação $R^2$"
      ]
    },
    {
      "cell_type": "markdown",
      "metadata": {
        "id": "2kFbzcyLNcE7",
        "colab_type": "text"
      },
      "source": [
        "Através do Método do Coeficiente $R^2$, foi análisado o quanto as retas obtidas através da regressão linear se adequam aos dados. O resultado obtido foi muito satisfatório, uma vez que o coeficiente apresentou um valor aceitável para o grau deste polinômio, tendo em vista a distribuição dos dados no decorrer dos anos.\n",
        "\n",
        "Embora esta não seja a maneira mais adequada de verificação da eficácia da regressão, uma vez que testa valores que já foram utilizadas na criação da mesma, indica que a reta consegue descrever de maneira bem aceitável os dados obtidos."
      ]
    },
    {
      "cell_type": "markdown",
      "metadata": {
        "id": "N7P1oi0EZeOX",
        "colab_type": "text"
      },
      "source": [
        "### Temperatura Média Anual em Terra X Anos"
      ]
    },
    {
      "cell_type": "code",
      "metadata": {
        "id": "QRhbhSGCMcMA",
        "colab_type": "code",
        "colab": {}
      },
      "source": [
        "r2(resp,datal)"
      ],
      "execution_count": 0,
      "outputs": []
    },
    {
      "cell_type": "markdown",
      "metadata": {
        "id": "tQoRTsyAZk9D",
        "colab_type": "text"
      },
      "source": [
        "### Temperatura Média Anual na Superfície X Anos"
      ]
    },
    {
      "cell_type": "code",
      "metadata": {
        "id": "aRaFOTHdBvU2",
        "colab_type": "code",
        "colab": {}
      },
      "source": [
        "r2(resplo,datalo)"
      ],
      "execution_count": 0,
      "outputs": []
    },
    {
      "cell_type": "markdown",
      "metadata": {
        "id": "p8tqy569RtWM",
        "colab_type": "text"
      },
      "source": [
        "## Referências"
      ]
    },
    {
      "cell_type": "markdown",
      "metadata": {
        "id": "VtRQDlgjRwqM",
        "colab_type": "text"
      },
      "source": [
        "Berkeley Earth. Climate Change: Earth Surface Temperature Data. Disponível em: kaggle.com/berkeleyearth/climate-change-earth-surface-temperature-data#GlobalTemperatures.csv. Acesso: 18/12/2019"
      ]
    }
  ]
}